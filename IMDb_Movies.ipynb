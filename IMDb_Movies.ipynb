{
  "nbformat": 4,
  "nbformat_minor": 0,
  "metadata": {
    "colab": {
      "provenance": []
    },
    "kernelspec": {
      "name": "python3",
      "display_name": "Python 3"
    },
    "language_info": {
      "name": "python"
    }
  },
  "cells": [
    {
      "cell_type": "code",
      "execution_count": 1,
      "metadata": {
        "colab": {
          "base_uri": "https://localhost:8080/"
        },
        "id": "c5gZ4HJu94XC",
        "outputId": "7f5f332d-5145-4596-a528-79d4efd89cdc"
      },
      "outputs": [
        {
          "output_type": "stream",
          "name": "stdout",
          "text": [
            "Mean Squared Error: 1.6454332793801714\n",
            "R² Score: 0.11193864659363906\n"
          ]
        }
      ],
      "source": [
        "import pandas as pd\n",
        "from sklearn.model_selection import train_test_split\n",
        "from sklearn.feature_extraction.text import CountVectorizer\n",
        "from sklearn.linear_model import LinearRegression\n",
        "from sklearn.metrics import mean_squared_error, r2_score\n",
        "from sklearn.pipeline import make_pipeline\n",
        "\n",
        "# Load the dataset\n",
        "df = pd.read_csv(\"IMDb Movies India 2.csv\", encoding=\"ISO-8859-1\")\n",
        "\n",
        "# Drop rows with missing Rating or important fields\n",
        "df_model = df[['Genre', 'Director', 'Actor 1', 'Actor 2', 'Actor 3', 'Rating']].dropna()\n",
        "\n",
        "# Combine features into a single string column\n",
        "df_model['Combined'] = (\n",
        "    df_model['Genre'].astype(str) + ' ' +\n",
        "    df_model['Director'].astype(str) + ' ' +\n",
        "    df_model['Actor 1'].astype(str) + ' ' +\n",
        "    df_model['Actor 2'].astype(str) + ' ' +\n",
        "    df_model['Actor 3'].astype(str)\n",
        ")\n",
        "\n",
        "# Features and Target\n",
        "X = df_model['Combined']\n",
        "y = df_model['Rating'].astype(float)\n",
        "\n",
        "# Train-test split\n",
        "X_train, X_test, y_train, y_test = train_test_split(X, y, test_size=0.2, random_state=42)\n",
        "\n",
        "# Create pipeline: Text Vectorization + Linear Regression\n",
        "pipeline = make_pipeline(\n",
        "    CountVectorizer(max_features=1000),\n",
        "    LinearRegression()\n",
        ")\n",
        "\n",
        "# Train the model\n",
        "pipeline.fit(X_train, y_train)\n",
        "\n",
        "# Predict and Evaluate\n",
        "y_pred = pipeline.predict(X_test)\n",
        "mse = mean_squared_error(y_test, y_pred)\n",
        "r2 = r2_score(y_test, y_pred)\n",
        "\n",
        "print(\"Mean Squared Error:\", mse)\n",
        "print(\"R² Score:\", r2)\n"
      ]
    }
  ]
}